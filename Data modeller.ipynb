{
 "cells": [
  {
   "attachments": {},
   "cell_type": "markdown",
   "metadata": {},
   "source": [
    "## Import tools"
   ]
  },
  {
   "cell_type": "code",
   "execution_count": null,
   "metadata": {},
   "outputs": [],
   "source": [
    "import pandas as pd\n",
    "import requests\n",
    "import re\n",
    "import os\n",
    "import os.path as path\n",
    "from PIL import Image\n",
    "import matplotlib.pyplot as plt\n",
    "import numpy as np "
   ]
  },
  {
   "attachments": {},
   "cell_type": "markdown",
   "metadata": {},
   "source": [
    "## Fetching file"
   ]
  },
  {
   "cell_type": "code",
   "execution_count": null,
   "metadata": {},
   "outputs": [],
   "source": [
    "path = \"C:/Users/Chris/Desktop/DTU/4. Semester/02466 - Project Work/RedditDataWithLinks_Master.csv\"\n",
    "posts_df = pd.read_csv(path) "
   ]
  },
  {
   "attachments": {},
   "cell_type": "markdown",
   "metadata": {},
   "source": [
    "##### Preview samples"
   ]
  },
  {
   "cell_type": "code",
   "execution_count": null,
   "metadata": {},
   "outputs": [],
   "source": [
    "pd.set_option('display.max_columns', None)\n",
    "pd.set_option('display.max_row', 25)\n",
    "print(posts_df)\n"
   ]
  },
  {
   "attachments": {},
   "cell_type": "markdown",
   "metadata": {},
   "source": [
    "## Clean up data"
   ]
  },
  {
   "attachments": {},
   "cell_type": "markdown",
   "metadata": {},
   "source": [
    "##### Get list of all column names"
   ]
  },
  {
   "cell_type": "code",
   "execution_count": null,
   "metadata": {},
   "outputs": [],
   "source": [
    "colunmNames = posts_df.columns.to_list()\n",
    "print(colunmNames)"
   ]
  },
  {
   "attachments": {},
   "cell_type": "markdown",
   "metadata": {},
   "source": [
    "##### Remove unwanted columns"
   ]
  },
  {
   "cell_type": "code",
   "execution_count": null,
   "metadata": {},
   "outputs": [],
   "source": [
    "posts_df.drop(columns = ['quarantine', 'link_flair_template_id', 'edited_on', 'call_to_action', 'subreddit_name_prefixed', 'discussion_type', 'post_categories', 'content_categories', 'category', 'can_gild', 'author_flair_template_id', 'from', 'from_kind', 'from_id', 'hidden', 'likes', 'retrieved_utc', 'created', 'report_reasons', 'approved_by', 'saved', 'removal_reason', 'num_reports', 'author_flair_css_class', 'author_flair_text', 'gilded', 'mod_reports', 'user_reports', 'brand_safe', 'contest_mode', 'spoiler', 'suggested_sort', 'author_flair_richtext', 'author_flair_type', 'link_flair_richtext', 'link_flair_text_color', 'link_flair_type', 'rte_mode', 'subreddit_type', 'thumbnail_height', 'thumbnail_width', 'author_flair_background_color', 'author_flair_text_color', 'author_patreon_flair', 'gildings', 'is_robot_indexable', 'link_flair_background_color', 'send_replies', 'no_follow', 'updated_utc', 'all_awardings', 'allow_live_comments', 'author_premium', 'awarders', 'total_awards_received', 'treatment_tags', 'is_created_from_ads_ui', 'parent_whitelist_status', 'pwls', 'url_overridden_by_dest', 'whitelist_status', 'wls', 'removed_by_category', 'approved_at_utc', 'banned_at_utc', 'removed_by', 'top_awarded_type', 'retrieved_on'], inplace = True, errors='ignore')\n",
    "\n",
    "colunmNames = posts_df.columns.to_list()\n",
    "print(colunmNames)\n",
    "print(len(colunmNames))\n",
    "del colunmNames"
   ]
  },
  {
   "attachments": {},
   "cell_type": "markdown",
   "metadata": {},
   "source": [
    "##### Change column names and reorder columns"
   ]
  },
  {
   "attachments": {},
   "cell_type": "markdown",
   "metadata": {},
   "source": [
    "1. Create dictionary - 'old name' : 'new name'"
   ]
  },
  {
   "cell_type": "code",
   "execution_count": null,
   "metadata": {},
   "outputs": [],
   "source": [
    "column_names = {'id' : 'PostID',\n",
    "                'subreddit' : 'Subreddit',\n",
    "                'subreddit_id' : 'SubredditID',\n",
    "                'created_utc' : 'PostTime',\n",
    "                'title' : 'PostTitle',\n",
    "                'author' : 'Username',\n",
    "                'author_created_utc' : 'UserCreatedTime',\n",
    "                'author_fullname' : 'AuthorName', \n",
    "                'domain' : 'ImageDomain',\n",
    "                'full_link' : 'Link',\n",
    "                'is_self' : 'IsTextPost',\n",
    "                'media_embed' : 'EmbeddedMedia',\n",
    "                'secure_media_embed' : 'SecureEmbeddedMedia',\n",
    "                'num_comments' : 'CommentNumber', \n",
    "                'over_18' : 'NSFW',\n",
    "                'permalink' : 'Permalink', \n",
    "                'score' : 'Upvotes', \n",
    "                'selftext' : 'PostText', \n",
    "                'thumbnail' : 'Thumbnail',\n",
    "                'url' : 'ImageURL',\n",
    "                'media' : 'Media',\n",
    "                'secure_media' : 'SecureMedia',\n",
    "                'stickied' : 'Stickied',\n",
    "                'locked' : 'CommentsLocked',\n",
    "                'post_hint' : 'PostHint',\n",
    "                'preview' : 'Preview',\n",
    "                'is_crosspostable' : 'IsCrosspostable',\n",
    "                'is_reddit_media_domain' : 'IsRedditMediaDomain',\n",
    "                'is_video' : 'IsVideo',\n",
    "                'num_crossposts' : 'CrosspostsNumber', \n",
    "                'pinned' : 'Pinned',\n",
    "                'crosspost_parent' : 'CrosspostParent',\n",
    "                'crosspost_parent_list' : 'CrosspostParentList',\n",
    "                'is_meta' : 'IsMeta',\n",
    "                'is_original_content' : 'IsOriginal',\n",
    "                'media_only' : 'OnlyMedia', \n",
    "                'subreddit_subscribers' : 'SubRedditSubscribers',\n",
    "                'media_metadata' : 'MediaMetadata', \n",
    "                'upvote_ratio' : 'UpvoteRatio', \n",
    "                'gallery_data' : 'GalleryData', \n",
    "                'is_gallery' : 'IsGallery', \n",
    "                'author_cakeday' : 'AuthorBirthdate',\n",
    "                'edited' : 'Edited', \n",
    "                'view_count' : 'ViewCount', \n",
    "                'author_id' : 'AuthorID',\n",
    "                'og_description' : 'OGDescription',\n",
    "                'og_title' : 'OGTitle',\n",
    "                'utc_datetime_str' : 'TimeString',\n",
    "                'ups' : 'Ups',\n",
    "                'downs' : 'Downs',\n",
    "                'selftext_html' : 'SelfTextHTML',\n",
    "                'distinguished' : 'Distinguished',\n",
    "                'link_flair_css_class' : 'LinkFlairClass',\n",
    "                'link_flair_text' : 'LinkFlairText',\n",
    "                'archived' : 'Archived',\n",
    "                'hide_score' : 'IsHideScore'}"
   ]
  },
  {
   "attachments": {},
   "cell_type": "markdown",
   "metadata": {},
   "source": [
    "2. Rename columns using dictionary"
   ]
  },
  {
   "cell_type": "code",
   "execution_count": null,
   "metadata": {},
   "outputs": [],
   "source": [
    "posts_tidy_df = posts_df.rename(columns = column_names)\n",
    "# Check to see if columns have been renamed\n",
    "posts_tidy_df.columns "
   ]
  },
  {
   "attachments": {},
   "cell_type": "markdown",
   "metadata": {},
   "source": [
    "3. Reorder columns"
   ]
  },
  {
   "cell_type": "code",
   "execution_count": null,
   "metadata": {},
   "outputs": [],
   "source": [
    "posts_tidy_df = posts_tidy_df[['Subreddit', 'SubredditID', 'PostTitle', 'PostID', 'TimeString', 'PostTime', 'Username', 'ViewCount', 'Upvotes', 'Ups', 'Downs', 'UpvoteRatio', 'CommentNumber', 'Edited', 'ImageDomain', 'ImageURL', 'Permalink', 'IsTextPost', 'PostText', 'SelfTextHTML', 'UserCreatedTime', 'AuthorName', 'Distinguished', 'LinkFlairClass', 'LinkFlairText', 'AuthorBirthdate', 'IsVideo', 'IsMeta', 'IsOriginal', 'IsRedditMediaDomain', 'IsCrosspostable', 'CrosspostsNumber', 'CrosspostParent', 'CrosspostParentList', 'SubRedditSubscribers', 'OnlyMedia', 'EmbeddedMedia', 'SecureEmbeddedMedia', 'Media', 'SecureMedia', 'Thumbnail', 'Stickied', 'Archived', 'IsHideScore', 'Pinned', 'PostHint', 'Preview', 'CommentsLocked', 'NSFW', 'NewURL']]"
   ]
  },
  {
   "cell_type": "code",
   "execution_count": null,
   "metadata": {},
   "outputs": [],
   "source": [
    "print(posts_tidy_df)"
   ]
  },
  {
   "attachments": {},
   "cell_type": "markdown",
   "metadata": {},
   "source": [
    "#### Fix image URLS"
   ]
  },
  {
   "cell_type": "code",
   "execution_count": null,
   "metadata": {},
   "outputs": [],
   "source": [
    "#create column for fixed urls\n",
    "posts_tidy_df = posts_tidy_df.reindex(columns = posts_tidy_df.columns.tolist() + ['NewURL'])\n",
    "\n",
    "posts_tidy_df = posts_tidy_df.head(50)"
   ]
  },
  {
   "cell_type": "code",
   "execution_count": null,
   "metadata": {},
   "outputs": [],
   "source": [
    "for index, row in posts_tidy_df.iterrows():\n",
    "    if row['ImageDomain'] == 'flickr.com':\n",
    "        print(row['ImageURL'])\n",
    "        r = requests.get(row['ImageURL'])\n",
    "        soup = bs(r.content)\n",
    "        images = re.findall(r'(\\/\\/live\\.staticflickr\\.com\\/[0-9][0-9][0-9][0-9]\\/[a-zA-Z0-9_]+\\.(?:png|jpg|jpeg|gif|png|svg))', str(soup))\n",
    "        \n",
    "        for image in images:\n",
    "            image_url = image\n",
    "            break\n",
    "        print(image_url)\n",
    "        posts_tidy_df.at[index, 'NewURL'] = image_url\n",
    "    elif row['ImageDomain'] == 'imgur.com':\n",
    "        posts_tidy_df.at[index, 'NewURL'] = re.sub(r'http://imgur.com', 'http://i.imgur.com', row['ImageURL']) + '.jpg'\n",
    "    elif row['ImageDomain'] == 'i.imgur.com':\n",
    "        posts_tidy_df.at[index, 'NewURL'] = row['ImageURL']\n",
    "    else:\n",
    "        continue\n",
    "\n",
    "# Save the new DataFrame as a CSV file\n",
    "posts_tidy_df.to_csv(\"C:/Users/sebas/OneDrive/Dokumenter/skole/4 Semester/Fagprojekt/RedditDataWithLinks.csv\", index=False)"
   ]
  },
  {
   "attachments": {},
   "cell_type": "markdown",
   "metadata": {},
   "source": [
    "## Save data frame and images // START FROM HERE IF YOU HAVE MASTER FILE"
   ]
  },
  {
   "attachments": {},
   "cell_type": "markdown",
   "metadata": {},
   "source": [
    "#### View data frame"
   ]
  },
  {
   "cell_type": "code",
   "execution_count": null,
   "metadata": {},
   "outputs": [],
   "source": [
    "path = \"C:/Users/Chris/Desktop/DTU/4. Semester/02466 - Project Work/RedditDataWithLinks_Master.csv\"\n",
    "posts_tidy_df = pd.read_csv(path)\n",
    "\n",
    "pd.set_option('display.max_columns', None)\n",
    "posts_tidy_df\n"
   ]
  },
  {
   "attachments": {},
   "cell_type": "markdown",
   "metadata": {},
   "source": [
    "#### Cleaning data"
   ]
  },
  {
   "cell_type": "code",
   "execution_count": null,
   "metadata": {},
   "outputs": [],
   "source": [
    "## version 3 - with scaling \n",
    "print(len(posts_tidy_df))\n",
    "# Drop rows where Ups or Downs is equal to zero\n",
    "posts_tidy_df.drop(posts_tidy_df[(posts_tidy_df['Ups'] == 0) | (posts_tidy_df['Downs'] == 0)].index, inplace=True)\n",
    "# Drop rows if value in Ups is missing or NaN\n",
    "posts_tidy_df.dropna(subset=['Ups'], inplace=True)\n",
    "# Calculate UpvoteRatio\n",
    "posts_tidy_df['UpvoteRatio'] = posts_tidy_df['Ups'] / posts_tidy_df['Downs']\n",
    "\n",
    "# Calculate the maximum and minimum values of UpvoteRatio\n",
    "max_ratio = posts_tidy_df['UpvoteRatio'].max()\n",
    "min_ratio = posts_tidy_df['UpvoteRatio'].min()\n",
    "\n",
    "# Apply min-max scaling to the UpvoteRatio\n",
    "posts_tidy_df['ScaledUpvoteRatio'] = (posts_tidy_df['UpvoteRatio'] - min_ratio) / (max_ratio - min_ratio)\n",
    "\n",
    "\n",
    "#applied scale \n",
    "posts_tidy_df['AppliedScale'] = (posts_tidy_df['ScaledUpvoteRatio']*posts_tidy_df['UpvoteRatio'])\n",
    "\n",
    "# Save the modified DataFrame to a CSV file\n",
    "filename = \"C:/Users/Chris/Desktop/DTU/4. Semester/02466 - Project Work/RedditDataWithLinks4.csv\"\n",
    "posts_tidy_df.to_csv(filename, header=True, index=False, columns=list(posts_tidy_df.axes[1]))\n",
    "\n"
   ]
  },
  {
   "attachments": {},
   "cell_type": "markdown",
   "metadata": {},
   "source": [
    "#### Save data frame as CSV\n"
   ]
  },
  {
   "cell_type": "code",
   "execution_count": null,
   "metadata": {},
   "outputs": [],
   "source": [
    "filename = \"C:/Users/Chris/Desktop/DTU/4. Semester/02466 - Project Work/RedditDataWithLinks4.csv\"\n",
    "posts_tidy_df.to_csv(filename, header=True, index=False, columns=list(posts_tidy_df.axes[1]))"
   ]
  },
  {
   "attachments": {},
   "cell_type": "markdown",
   "metadata": {},
   "source": [
    "## Downloading the data"
   ]
  },
  {
   "attachments": {},
   "cell_type": "markdown",
   "metadata": {},
   "source": [
    "#### Fetching data frame from file"
   ]
  },
  {
   "cell_type": "code",
   "execution_count": null,
   "metadata": {},
   "outputs": [],
   "source": [
    "path = \"C:/Users/Chris/Desktop/DTU/4. Semester/02466 - Project Work/RedditDataWithLinks4.csv\"\n",
    "posts_tidy_df = pd.read_csv(path)\n"
   ]
  },
  {
   "cell_type": "code",
   "execution_count": null,
   "metadata": {},
   "outputs": [],
   "source": [
    "pd.set_option('display.max_columns', None)\n",
    "posts_tidy_df\n",
    "\n"
   ]
  },
  {
   "cell_type": "code",
   "execution_count": null,
   "metadata": {},
   "outputs": [],
   "source": [
    "filtered_df = posts_tidy_df.dropna(subset=['NewURL'])\n",
    "plt.hist((np.log(filtered_df['ScaledUpvoteRatio'])), bins=100)\n",
    "\n",
    "plt.xlabel('ScaledUpvoteRatio')\n",
    "plt.ylabel('Frequency')\n",
    "plt.title('Distribution of ScaledUpvoteRatio')\n",
    "\n",
    "plt.show()"
   ]
  },
  {
   "attachments": {},
   "cell_type": "markdown",
   "metadata": {},
   "source": [
    "#### Save images from URLs"
   ]
  },
  {
   "cell_type": "code",
   "execution_count": null,
   "metadata": {},
   "outputs": [],
   "source": [
    "#Save images from data frame URL column\n",
    "root_folder = \"C:/Users/sebas/OneDrive/Dokumenter/skole/4 Semester/Fagprojekt/Images/\"\n",
    "\n",
    "\n",
    "\n",
    "def download(row):\n",
    "   filename = root_folder + row['PostID'] + '.jpg'\n",
    "\n",
    "   # create folder if it doesn't exist\n",
    "   os.makedirs(os.path.dirname(filename), exist_ok = True)\n",
    "   \n",
    "   try:\n",
    "        url = row['NewURL']\n",
    "\n",
    "        if pd.isna(url):\n",
    "            url = row['ImageURL']\n",
    "            if pd.isna(url) or not url.startswith('https://i.redd.it/'):\n",
    "                print(f\"Skipping row {row.name} - Missing URL\")\n",
    "                return\n",
    "\n",
    "            \n",
    "        \n",
    "        \n",
    "        \n",
    "        if not url.startswith('http://' ) and not url.startswith('https://' ):\n",
    "            if url.startswith('////'):\n",
    "                url = 'http://' + url[4:]\n",
    "            else:\n",
    "                url = 'http:' + url\n",
    "        \n",
    "        \n",
    "\n",
    "        print(f\"Downloading row {row.name} {url} to {filename}\")\n",
    "        r = requests.get(url, allow_redirects=True)\n",
    "\n",
    "        if len(r.content) < 10240:  # 10kB = 10240 bytes\n",
    "            print(f\"Skipping row {row.name} - Image size is less than 10kB\")\n",
    "            return\n",
    "\n",
    "        with open(filename, 'wb') as f:\n",
    "            f.write(r.content)\n",
    "        \n",
    "            img = Image.open(filename)\n",
    "            img = img.resize((224,224))\n",
    "            img.save(filename)\n",
    "\n",
    "   except Exception as e:\n",
    "        print(f\"Error occurred while processing row {row.name}: {e}\")\n",
    "        \n",
    "\n",
    "#test\n",
    "# posts_tidy_df.apply(download, axis=1)\n",
    "posts_tidy_df.iloc[0:].apply(download, axis=1)"
   ]
  }
 ],
 "metadata": {
  "kernelspec": {
   "display_name": "base",
   "language": "python",
   "name": "python3"
  },
  "language_info": {
   "codemirror_mode": {
    "name": "ipython",
    "version": 3
   },
   "file_extension": ".py",
   "mimetype": "text/x-python",
   "name": "python",
   "nbconvert_exporter": "python",
   "pygments_lexer": "ipython3",
   "version": "3.9.7"
  },
  "orig_nbformat": 4
 },
 "nbformat": 4,
 "nbformat_minor": 2
}
